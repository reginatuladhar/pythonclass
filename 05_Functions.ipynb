{
 "cells": [
  {
   "cell_type": "markdown",
   "metadata": {},
   "source": [
    "# Functions"
   ]
  },
  {
   "cell_type": "markdown",
   "metadata": {},
   "source": [
    "## Introduction\n",
    "\n",
    "- In Python a function is some reusable code that takes arguments(s) as input does some computation and then returns a result or results\n",
    "- We define a function using the `def` reserved word\n",
    "- We call/invoke the function by using the function name, parenthesis and arguments in an expression"
   ]
  },
  {
   "cell_type": "markdown",
   "metadata": {},
   "source": [
    "** There are two kinds of functions in Python.**\n",
    "- Built-in functions that are provided as part of Python -\n",
    "  - ```input(), type(), float(), int()```\n",
    "- Functions that we define ourselves (user defined)\n",
    "\n",
    "```python\n",
    ">>> big = max('Hello world')\n",
    "```"
   ]
  },
  {
   "cell_type": "markdown",
   "metadata": {},
   "source": [
    "# Indentation\n",
    "- One of the most distinctive features of Python is its use of indentation to mark blocks of code.\n",
    "- In python, indentation is of four spaces"
   ]
  },
  {
   "cell_type": "markdown",
   "metadata": {},
   "source": [
    "##!/usr/bin/python3\n",
    "##----- function without arguments ----\n",
    "a = int(input(\"Enter first number:\"))\n",
    "b = int(input(\"Enter second number:\"))\n",
    "print(\"The sum is \",a+b)"
   ]
  },
  {
   "cell_type": "code",
   "execution_count": 5,
   "metadata": {},
   "outputs": [
    {
     "name": "stdout",
     "output_type": "stream",
     "text": [
      "5\n"
     ]
    }
   ],
   "source": [
    "def num(a =2 , b =3):\n",
    "    print(a+b)\n",
    "num()"
   ]
  },
  {
   "cell_type": "code",
   "execution_count": 11,
   "metadata": {},
   "outputs": [
    {
     "name": "stdout",
     "output_type": "stream",
     "text": [
      "Enter first number:2\n",
      "Enter second number:3\n"
     ]
    }
   ],
   "source": [
    "# function without argumnt\n",
    "inta = int(input(\"Enter first number:\"))\n",
    "intb = int(input(\"Enter second number:\"))"
   ]
  },
  {
   "cell_type": "code",
   "execution_count": 13,
   "metadata": {},
   "outputs": [],
   "source": [
    "def num(inta , intb):\n",
    "    print(\"The sum of number is :\", inta+intb)"
   ]
  },
  {
   "cell_type": "code",
   "execution_count": 14,
   "metadata": {},
   "outputs": [
    {
     "name": "stdout",
     "output_type": "stream",
     "text": [
      "The sum of number is : 5\n"
     ]
    }
   ],
   "source": [
    "num(inta,intb)"
   ]
  },
  {
   "cell_type": "code",
   "execution_count": 16,
   "metadata": {},
   "outputs": [
    {
     "ename": "SyntaxError",
     "evalue": "invalid syntax (<ipython-input-16-61b11e7373cc>, line 2)",
     "output_type": "error",
     "traceback": [
      "\u001b[0;36m  File \u001b[0;32m\"<ipython-input-16-61b11e7373cc>\"\u001b[0;36m, line \u001b[0;32m2\u001b[0m\n\u001b[0;31m    def square(inta , intb)\u001b[0m\n\u001b[0m                           ^\u001b[0m\n\u001b[0;31mSyntaxError\u001b[0m\u001b[0;31m:\u001b[0m invalid syntax\n"
     ]
    }
   ],
   "source": [
    "# function with argumnt\n",
    "def square(inta , intb)"
   ]
  },
  {
   "cell_type": "code",
   "execution_count": null,
   "metadata": {},
   "outputs": [],
   "source": []
  },
  {
   "cell_type": "code",
   "execution_count": 17,
   "metadata": {
    "scrolled": true
   },
   "outputs": [
    {
     "name": "stdout",
     "output_type": "stream",
     "text": [
      "Default style\n",
      "+++++++++++++++++++++++++++++\n",
      " Hello World \n",
      "+++++++++++++++++++++++++++++\n",
      "\n",
      "Style character *\n",
      "*****************************\n",
      " Hello World \n",
      "*****************************\n",
      "\n",
      "Style character =\n",
      "=============================\n",
      " Hello World \n",
      "=============================\n"
     ]
    }
   ],
   "source": [
    "def greeting(style_char=\"+\"):\n",
    "        print(style_char * 29)\n",
    "        print(\" Hello World \")\n",
    "        print(style_char * 29)\n",
    "        \n",
    "print(\"Default style\")\n",
    "greeting()\n",
    "print(\"\\nStyle character *\")\n",
    "greeting('*')\n",
    "print(\"\\nStyle character =\")\n",
    "greeting(style_char='=')"
   ]
  },
  {
   "cell_type": "code",
   "execution_count": 25,
   "metadata": {},
   "outputs": [
    {
     "name": "stdout",
     "output_type": "stream",
     "text": [
      "Fristname:regina\n",
      "Lastname:tuladhar\n"
     ]
    }
   ],
   "source": [
    "fname = input(\"Fristname:\")\n",
    "lname = input(\"Lastname:\")\n",
    "#phone = input(\"Contact No.:\")"
   ]
  },
  {
   "cell_type": "code",
   "execution_count": 39,
   "metadata": {},
   "outputs": [],
   "source": [
    "def contact(fname,lname,phone=\"x\"):\n",
    "     print(fname,lname,phone *10)\n",
    "    \n"
   ]
  },
  {
   "cell_type": "code",
   "execution_count": 40,
   "metadata": {},
   "outputs": [
    {
     "name": "stdout",
     "output_type": "stream",
     "text": [
      "regina tuladhar xxxxxxxxxx\n"
     ]
    }
   ],
   "source": [
    "contact(fname,lname)"
   ]
  },
  {
   "cell_type": "code",
   "execution_count": null,
   "metadata": {
    "collapsed": true
   },
   "outputs": [],
   "source": []
  },
  {
   "cell_type": "markdown",
   "metadata": {},
   "source": [
    "### Required arguments\n",
    "- Required arguments are the arguments passed to a function in correct positional order. \n",
    "\n",
    "### Keyword arguments\n",
    "- Keyword arguments are related to the function calls. \n",
    "- When you use keyword arguments in a function call, the caller identifies the arguments by the parameter name.\n",
    "\n",
    "### Default arguments\n",
    "- A default argument is an argument that assumes a default value if a value is not provided in the function call for that argument\n",
    "\n",
    "### Variable-length arguments\n",
    "- You may need to process a function for more arguments than you specified while defining the function. \n",
    "- var args in Java\n"
   ]
  },
  {
   "cell_type": "markdown",
   "metadata": {},
   "source": [
    "# Default Arguments"
   ]
  },
  {
   "cell_type": "code",
   "execution_count": 32,
   "metadata": {},
   "outputs": [
    {
     "name": "stdout",
     "output_type": "stream",
     "text": [
      "Hello World\n",
      "Great Job\n",
      "Great World\n"
     ]
    }
   ],
   "source": [
    "def testDefaultParams(var1 = \"Hello\", var2 = \"World\"):\n",
    "    print(var1 + \" \" + var2)\n",
    "testDefaultParams()  #prints Hello World\n",
    "testDefaultParams(var2=\"Job\",var1=\"Great\") # prints Great Job\n",
    "testDefaultParams(var1=\"Great\") #prints Great World"
   ]
  },
  {
   "cell_type": "markdown",
   "metadata": {},
   "source": [
    "# Variable length arguments"
   ]
  },
  {
   "cell_type": "code",
   "execution_count": 38,
   "metadata": {},
   "outputs": [
    {
     "name": "stdout",
     "output_type": "stream",
     "text": [
      "19\n"
     ]
    }
   ],
   "source": [
    "def fun(*args):\n",
    "    total  = 0\n",
    "    for each in args:\n",
    "        total += each  #total = total + each\n",
    "    print(total)\n",
    "fun(1,2,3,4,4,5)"
   ]
  },
  {
   "cell_type": "markdown",
   "metadata": {},
   "source": [
    "# Pass By Reference\n",
    "\n",
    "- Python functions are pass by reference\n",
    "- Changing parameter value within function is reflected in the calling function\n",
    "- However immutable objects are passed by value\n",
    "\n",
    "** Try an example ** \n",
    "- Try to pass integer and string in a function\n",
    "- Change the value of both\n",
    "- See the value inside and outside the function"
   ]
  },
  {
   "cell_type": "code",
   "execution_count": 14,
   "metadata": {},
   "outputs": [
    {
     "name": "stdout",
     "output_type": "stream",
     "text": [
      "before 5 hello\n",
      "6\n",
      "hello World\n",
      "after 5 hello\n"
     ]
    }
   ],
   "source": [
    "def func(x, y):\n",
    "    print(x + 1)\n",
    "    print(y + \" World\")\n",
    "x = 5\n",
    "y = \"hello\"\n",
    "print(\"before\",x,y)\n",
    "func(x, y)\n",
    "print(\"after\",x,y)"
   ]
  },
  {
   "cell_type": "code",
   "execution_count": null,
   "metadata": {},
   "outputs": [],
   "source": []
  },
  {
   "cell_type": "code",
   "execution_count": 18,
   "metadata": {},
   "outputs": [
    {
     "name": "stdout",
     "output_type": "stream",
     "text": [
      "28\n"
     ]
    }
   ],
   "source": [
    "def func(**kwargs):\n",
    "    total = 0\n",
    "    for k,v in kwargs.items():\n",
    "        total += kwargs.get(k)\n",
    "    print(total)\n",
    "    \n",
    "func(x=5, y=10, z=13)\n",
    "    "
   ]
  },
  {
   "cell_type": "code",
   "execution_count": 21,
   "metadata": {},
   "outputs": [
    {
     "name": "stdout",
     "output_type": "stream",
     "text": [
      "a\n",
      "b\n"
     ]
    }
   ],
   "source": [
    "def function(**kwargs):\n",
    "    for k,v in kwargs.items():\n",
    "        print(kwargs.get(k))\n",
    "function(k=\"a\", v=\"b\")\n"
   ]
  },
  {
   "cell_type": "code",
   "execution_count": 2,
   "metadata": {},
   "outputs": [
    {
     "name": "stdout",
     "output_type": "stream",
     "text": [
      "2\n"
     ]
    }
   ],
   "source": [
    "x=(2)\n",
    "print(x)"
   ]
  },
  {
   "cell_type": "code",
   "execution_count": 4,
   "metadata": {},
   "outputs": [
    {
     "name": "stdout",
     "output_type": "stream",
     "text": [
      "before {'x': 12}\n",
      "after {'x': 123}\n"
     ]
    }
   ],
   "source": [
    "x = {\"x\":12}\n",
    "def func(x):\n",
    "    print(\"before\",x)\n",
    "    x.update({\"x\":123})\n",
    "func(x)\n",
    "print(\"after\",x)"
   ]
  },
  {
   "cell_type": "code",
   "execution_count": 51,
   "metadata": {},
   "outputs": [
    {
     "name": "stdout",
     "output_type": "stream",
     "text": [
      "[1, 2, 3, 4, 5]\n"
     ]
    }
   ],
   "source": [
    "x=[1,2,3,4,5]\n",
    "print(x)"
   ]
  },
  {
   "cell_type": "code",
   "execution_count": 52,
   "metadata": {},
   "outputs": [
    {
     "name": "stdout",
     "output_type": "stream",
     "text": [
      "[1, 2, 3, 4, 5]\n",
      "[100, 2, 3, 4, 5]\n"
     ]
    }
   ],
   "source": [
    "def func(x):\n",
    "    x[0] = 100\n",
    "    return\n",
    "print(x)\n",
    "func(x)\n",
    "print(x)\n",
    "\n"
   ]
  },
  {
   "cell_type": "markdown",
   "metadata": {},
   "source": [
    "# \\*args and **kwargs"
   ]
  },
  {
   "cell_type": "markdown",
   "metadata": {},
   "source": [
    "- Accept any number of arguments\n",
    "- **\\*args** takes individual arguments\n",
    "- **\\*\\*kwargs** takes key value pair\n",
    "- args and kwargs are just convention and any other name can be used"
   ]
  },
  {
   "cell_type": "markdown",
   "metadata": {},
   "source": [
    "## \\*args"
   ]
  },
  {
   "cell_type": "code",
   "execution_count": 54,
   "metadata": {
    "scrolled": true
   },
   "outputs": [
    {
     "name": "stdout",
     "output_type": "stream",
     "text": [
      "args ---->  ['Goodbye', 'cruel', 'world!']\n",
      "Hello\n",
      "awesome\n",
      "world!\n"
     ]
    }
   ],
   "source": [
    "def func1(x, y, z):\n",
    "    print(x)\n",
    "    print(y)\n",
    "    print(z)                 \n",
    "def func2(*args):\n",
    "    # Convert args tuple to a list so we can modify it\n",
    "    args = list(args)\n",
    "    print(\"args ----> \", args)\n",
    "    args[0] = 'Hello'\n",
    "    args[1] = 'awesome'\n",
    "    func1(*args)\n",
    "\n",
    "func2('Goodbye', 'cruel', 'world!')\n",
    "# Will print\n",
    "# > Hello\n",
    "# > awesome\n",
    "# > world!\n"
   ]
  },
  {
   "cell_type": "markdown",
   "metadata": {},
   "source": [
    "## \\*\\*kwargs"
   ]
  },
  {
   "cell_type": "code",
   "execution_count": 55,
   "metadata": {},
   "outputs": [
    {
     "name": "stdout",
     "output_type": "stream",
     "text": [
      "training == python\n",
      "hello == world\n"
     ]
    }
   ],
   "source": [
    "def greet_me(**kwargs):\n",
    "    if kwargs is not None:\n",
    "        for key, value in kwargs.items():\n",
    "            print(\"{} == {}\".format(key,value))\n",
    "\n",
    "greet_me(training=\"python\", hello=\"world\")"
   ]
  },
  {
   "cell_type": "markdown",
   "metadata": {},
   "source": [
    "# The print() funciton in Python3\n",
    "\n",
    "- By default, `print` function adds newline character\n",
    "- This can be changed/overwritten by passing our own string to the end argument\n",
    "\n",
    "```python\n",
    ">>> print(\"hi\")\n",
    "hi\n",
    ">>> print(\"hi\", end='')\n",
    "hi>>>\n",
    ">>> print(\"hi\", end=' !!\\n')\n",
    "hi !!\n",
    "```"
   ]
  },
  {
   "cell_type": "code",
   "execution_count": 63,
   "metadata": {},
   "outputs": [
    {
     "name": "stdout",
     "output_type": "stream",
     "text": [
      "hi\n",
      "hi\n",
      "hi !!\n"
     ]
    }
   ],
   "source": [
    "print(\"hi\")\n",
    "print(\"hi\", end='\\n')\n",
    "print(\"hi\", end=' !!\\n')"
   ]
  },
  {
   "cell_type": "code",
   "execution_count": null,
   "metadata": {},
   "outputs": [],
   "source": []
  },
  {
   "cell_type": "markdown",
   "metadata": {},
   "source": [
    "```python\n",
    ">>> help(print) # the builtin function that returns documentation\n",
    ">>> a = 5\n",
    ">>> b = 2\n",
    ">>> print(a+b, a-b)\n",
    ">>> print(a+b, a-b, sep=' : ')\n",
    ">>> print(a+b, a-b, sep='\\n')\n",
    "```"
   ]
  },
  {
   "cell_type": "code",
   "execution_count": 58,
   "metadata": {},
   "outputs": [
    {
     "name": "stdout",
     "output_type": "stream",
     "text": [
      "7 3\n",
      "7 : 3\n",
      "7\n",
      "3\n"
     ]
    }
   ],
   "source": [
    "a = 5\n",
    "b = 2\n",
    "print(a+b, a-b)\n",
    "print(a+b, a-b, sep=' : ')\n",
    "print(a+b, a-b, sep='\\n')"
   ]
  },
  {
   "cell_type": "markdown",
   "metadata": {},
   "source": [
    "- When printing variables, the str method is called which gives the string representation\n",
    "- So, explicit conversion is not needed unless concatenation is required \n",
    "- `str.format()` can be used to style strings and handle multiple variables more elegantly than string concatenation"
   ]
  },
  {
   "cell_type": "markdown",
   "metadata": {},
   "source": [
    "```python\n",
    ">>> print(\"{0} + {1} * {0} = {2}\".format(num1, num2, num1 + num2 * num1))\n",
    ">>> print(\"{0:.2f}\".format(appx_pi))\n",
    ">>> print(\"{0:.3f}\".format(appx_pi))\n",
    ">>> print(\"{0:<10.3f} and 5.12\".format(appx_pi))\n",
    ">>> print(\"{0:>10.3f} and 5.12\".format(appx_pi))\n",
    "```"
   ]
  },
  {
   "cell_type": "markdown",
   "metadata": {},
   "source": [
    "## `range` function\n",
    "```python\n",
    "range(start, stop, step)\n",
    "```\n",
    "## `type` function\n",
    "```python\n",
    "type(variable)\n",
    "type(value)\n",
    "```\n",
    "## `Variable` scope"
   ]
  },
  {
   "cell_type": "markdown",
   "metadata": {},
   "source": [
    "# I/O in python\n",
    "\n",
    "- `input()` function for taking input from User\n",
    "```python\n",
    ">>> a = input(\"prompt message\")\n",
    "```"
   ]
  },
  {
   "cell_type": "markdown",
   "metadata": {},
   "source": [
    "Exercise: Write a program to generate following output.\n",
    "\n",
    "```\n",
    ">>> What's your name?\n",
    "Nice to meet you ! ****\n",
    ">>> Your age?\n",
    "So, you are already **** years old, ****!\n",
    "```"
   ]
  },
  {
   "cell_type": "markdown",
   "metadata": {},
   "source": [
    "# Other built-in functions"
   ]
  },
  {
   "cell_type": "markdown",
   "metadata": {},
   "source": [
    "- `eval` function takes in a string of arithematic expression and evaluates it\n",
    "```python\n",
    ">>> eval(\"10*2\")\n",
    "```"
   ]
  },
  {
   "cell_type": "markdown",
   "metadata": {},
   "source": [
    "```python\n",
    "str()\n",
    "list()\n",
    "repr()\n",
    "```"
   ]
  },
  {
   "cell_type": "code",
   "execution_count": null,
   "metadata": {},
   "outputs": [],
   "source": []
  }
 ],
 "metadata": {
  "kernelspec": {
   "display_name": "Python 3",
   "language": "python",
   "name": "python3"
  },
  "language_info": {
   "codemirror_mode": {
    "name": "ipython",
    "version": 3
   },
   "file_extension": ".py",
   "mimetype": "text/x-python",
   "name": "python",
   "nbconvert_exporter": "python",
   "pygments_lexer": "ipython3",
   "version": "3.6.6"
  }
 },
 "nbformat": 4,
 "nbformat_minor": 1
}
