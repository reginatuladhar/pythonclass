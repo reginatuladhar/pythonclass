{
 "cells": [
  {
   "cell_type": "code",
   "execution_count": 2,
   "metadata": {},
   "outputs": [
    {
     "name": "stdout",
     "output_type": "stream",
     "text": [
      "Please insert password:hcjdhfhh\n",
      "Error\n"
     ]
    }
   ],
   "source": [
    "password =input(\"Please insert password:\")\n",
    "\n",
    "if(password ==\"World\"):\n",
    "    print(\"valid\")\n",
    "elif (password == \"World!\"):\n",
    "    print (\"valid\")\n",
    "else:\n",
    "    print(\"Error\")"
   ]
  },
  {
   "cell_type": "code",
   "execution_count": 8,
   "metadata": {},
   "outputs": [
    {
     "name": "stdout",
     "output_type": "stream",
     "text": [
      "please insert number: 7\n",
      "odd\n"
     ]
    }
   ],
   "source": [
    "Num = int(input(\"please insert number: \"))\n",
    "if(Num == 0):\n",
    "    print(\"Zero\")\n",
    "elif(Num%2 == 0):\n",
    "    print(\"Even\")\n",
    "else:\n",
    "    print(\"odd\")"
   ]
  },
  {
   "cell_type": "code",
   "execution_count": 24,
   "metadata": {},
   "outputs": [
    {
     "name": "stdout",
     "output_type": "stream",
     "text": [
      "Please insert time:25\n",
      "Out of Range\n"
     ]
    }
   ],
   "source": [
    "Time = int(input(\"Please insert time:\"))\n",
    "if (Time <0 or Time >24):\n",
    "    print(\"Out of Range\")\n",
    "elif (Time > 0 and Time < 12):\n",
    "    print(\"Good Morning\")\n",
    "elif (Time >= 12 and Time <17):\n",
    "    print(\"Good Day\")\n",
    "elif (Time >=17 and Time < 21):\n",
    "    print (\"Good Evening\")\n",
    "else:\n",
    "    print (\"Good Night\")"
   ]
  },
  {
   "cell_type": "code",
   "execution_count": 32,
   "metadata": {},
   "outputs": [
    {
     "name": "stdout",
     "output_type": "stream",
     "text": [
      "Please insert number:40\n",
      "40 is smaller than 50 and greater than 0\n"
     ]
    }
   ],
   "source": [
    "Number = int(input(\"Please insert number:\"))\n",
    "if (Number <0 or Number >200):\n",
    "    print(\"Out of Range\")\n",
    "elif (Number >=0 and Number <50):\n",
    "    print(Number, \"is smaller than 50 and greater than 0\")\n",
    "elif (Number >=50 and Number <150):\n",
    "    print(Number, \"is smaller than 150 and greater than 50\")\n",
    "elif (Number >=150 and Number <200):\n",
    "    print(Number, \"is smaller than 200 and greater than 150\")\n",
    "elif (Number == 200):\n",
    "    print(Number, \"is equal\")"
   ]
  },
  {
   "cell_type": "code",
   "execution_count": 34,
   "metadata": {},
   "outputs": [
    {
     "name": "stdout",
     "output_type": "stream",
     "text": [
      "5\n"
     ]
    }
   ],
   "source": [
    "#Ternary\n",
    "a = 5;\n",
    "b = 3\n",
    "max = (a if (a > b) else b)\n",
    "print(max)"
   ]
  },
  {
   "cell_type": "code",
   "execution_count": null,
   "metadata": {},
   "outputs": [],
   "source": []
  }
 ],
 "metadata": {
  "kernelspec": {
   "display_name": "Python 3",
   "language": "python",
   "name": "python3"
  },
  "language_info": {
   "codemirror_mode": {
    "name": "ipython",
    "version": 3
   },
   "file_extension": ".py",
   "mimetype": "text/x-python",
   "name": "python",
   "nbconvert_exporter": "python",
   "pygments_lexer": "ipython3",
   "version": "3.6.6"
  }
 },
 "nbformat": 4,
 "nbformat_minor": 2
}
