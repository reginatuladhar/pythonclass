{
 "cells": [
  {
   "cell_type": "code",
   "execution_count": 74,
   "metadata": {},
   "outputs": [
    {
     "name": "stdout",
     "output_type": "stream",
     "text": [
      "Jane.Doe@deerwalk.com\n",
      "Jane Doe\n",
      "60000\n",
      "55000\n"
     ]
    }
   ],
   "source": [
    "class Employee:\n",
    "    bonus = 1.10 #class variable\n",
    "   # bonus1 = 1.20\n",
    "\n",
    "    @classmethod\n",
    "    def initializeFromString(cls, inp): #This is class method\n",
    "        first,last,pay = inp.split(\"-\")\n",
    "        return cls(first,last,pay)\n",
    "       \n",
    "    def __init__(self, first, last, pay):\n",
    "        self.first = first #these are instance variable\n",
    "        self.last = last\n",
    "        self.pay = pay\n",
    "    \n",
    "    @property\n",
    "    def email(self):\n",
    "        return self.first+ \".\" + self.last + \"@deerwalk.com\"\n",
    "               \n",
    "    def fullname(self):\n",
    "        return \"{} {}\".format(self.first,self.last)\n",
    "    def bouns(self):\n",
    "        self.pay = int(int(self.pay) * self.bonus)\n",
    "        return self.pay\n",
    "#    def bonus_extra(self):\n",
    " #       self.pay = int(self.pay * Employee.bonus)\n",
    "  #      return self.pay\n",
    "    \n",
    "emp1 = Employee(\"Jane\",\"Doe\", 50000)\n",
    "emp2 = Employee(\"Regina\", \"Tuladhar\", 60000)\n",
    "emp3 = Employee(\"Ram\", \"Nepal\", 50000)\n",
    "#print(emp1.pay)\n",
    "print(emp1.email)\n",
    "print(emp1.fullname())\n",
    "#print(emp1.bouns())\n",
    "#print(emp2.pay)\n",
    "#print(emp2.email)\n",
    "#print(emp2.fullname())\n",
    "#print(emp2.bouns())\n",
    "\n",
    "emp3.bonus = 1.20\n",
    "print(emp3.bouns())\n",
    "print(emp1.bouns())\n",
    "\n"
   ]
  },
  {
   "cell_type": "code",
   "execution_count": 75,
   "metadata": {},
   "outputs": [
    {
     "name": "stdout",
     "output_type": "stream",
     "text": [
      "1100\n",
      "Ram.Nepal@deerwalk.com\n"
     ]
    }
   ],
   "source": [
    "emp4 =Employee.initializeFromString(\"Ram-Nepal-1000\")\n",
    "print(emp4.bouns())\n",
    "print(emp4.email)"
   ]
  },
  {
   "cell_type": "code",
   "execution_count": 69,
   "metadata": {},
   "outputs": [],
   "source": [
    "#Static Method\n",
    "class Days:\n",
    "    @staticmethod\n",
    "    def holidays(x):\n",
    "        if x == \"Sat\" or x == \"Sun\":\n",
    "            return True\n",
    "        else:\n",
    "            return False"
   ]
  },
  {
   "cell_type": "code",
   "execution_count": 70,
   "metadata": {},
   "outputs": [
    {
     "data": {
      "text/plain": [
       "False"
      ]
     },
     "execution_count": 70,
     "metadata": {},
     "output_type": "execute_result"
    }
   ],
   "source": [
    "day1 = Days()\n",
    "day1.holidays(\"Mon\")"
   ]
  },
  {
   "cell_type": "code",
   "execution_count": null,
   "metadata": {},
   "outputs": [],
   "source": []
  }
 ],
 "metadata": {
  "kernelspec": {
   "display_name": "Python 3",
   "language": "python",
   "name": "python3"
  },
  "language_info": {
   "codemirror_mode": {
    "name": "ipython",
    "version": 3
   },
   "file_extension": ".py",
   "mimetype": "text/x-python",
   "name": "python",
   "nbconvert_exporter": "python",
   "pygments_lexer": "ipython3",
   "version": "3.6.6"
  }
 },
 "nbformat": 4,
 "nbformat_minor": 2
}
